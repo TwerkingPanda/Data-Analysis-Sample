{
 "cells": [
  {
   "cell_type": "code",
   "execution_count": null,
   "metadata": {},
   "outputs": [],
   "source": [
    "import pandas as pd\n",
    "import matplotlib.pyplot as plt\n",
    "from tabulate import tabulate\n",
    "import numpy as np\n",
    "import json\n",
    "import random\n",
    "from time import time"
   ]
  },
  {
   "cell_type": "code",
   "execution_count": null,
   "metadata": {
    "scrolled": false
   },
   "outputs": [],
   "source": [
    "time1 = time()\n",
    "'''\n",
    "parser converts string to list of dicts\n",
    "ast -> literal_eval can be used too but json.loads is 10 times faster\n",
    "[:] is not the right way to copy a df. it might create a view etc since applying a func affects both but adding a column doesn't\n",
    "'''\n",
    "def parser2(data):\n",
    "    if data != data:\n",
    "        return np.nan\n",
    "    else:\n",
    "        return json.loads(data)\n",
    "dft=pd.read_csv(\"JCO5003.tsv\", dtype = {'srv2' : object}, sep ='\\t')\n",
    "dft.columns = dft.columns.str.replace('d\\.', '', regex=True)\n",
    "dft.dt= pd.to_datetime(dft.dt, format = '%d-%m-%y %H:%M:%S:%f')\n",
    "#dft.jbdl_ts= pd.to_datetime(dft.jbdl_ts, infer_datetime_format=True)\n",
    "#dft.wi17 = dft.wi17.apply(parser2)\n",
    "#dft.wi18 = dft.wi18.apply(parser2)\n",
    "#df = df[df['di8'].isin(random.sample(set(df[df['partition_date'] == df.partition_date.unique()[-1]].di8.unique()), 50))]\n",
    "dft= dft.sort_values(by = [ 'dt']).reset_index(drop=True)"
   ]
  },
  {
   "cell_type": "code",
   "execution_count": null,
   "metadata": {},
   "outputs": [],
   "source": [
    "df=dft.copy()\n",
    "df['di4'] = 'JCO500'\n",
    "df['di5'] = 'R1.192'\n",
    "df['partition_date'] = '2021-04-29'"
   ]
  },
  {
   "cell_type": "code",
   "execution_count": null,
   "metadata": {},
   "outputs": [],
   "source": [
    "# bdf1 = df.loc[:df.shape[0]//5][:]\n",
    "# bdf2 = df.loc[df.shape[0]//5 : 2*df.shape[0]//5][:]\n",
    "# bdf3 = df.loc[2*df.shape[0]//5 : 3*df.shape[0]//5][:]\n",
    "# bdf4 = df.loc[3*df.shape[0]//5 : 4*df.shape[0]//5][:]\n",
    "# bdf5 = df.loc[4*df.shape[0]//5 :][:]"
   ]
  },
  {
   "cell_type": "code",
   "execution_count": null,
   "metadata": {},
   "outputs": [],
   "source": [
    "# %store -r bdf1\n",
    "# %store -r bdf2\n",
    "# %store -r bdf3\n",
    "# %store -r bdf4\n",
    "# %store -r bdf5"
   ]
  },
  {
   "cell_type": "code",
   "execution_count": null,
   "metadata": {},
   "outputs": [],
   "source": [
    "# df = pd.concat([bdf1, bdf2, bdf3, bdf4, bdf5])\n",
    "#df=df.loc[df.di5 == 'R1.130'].reset_index(drop=True)"
   ]
  },
  {
   "cell_type": "code",
   "execution_count": null,
   "metadata": {},
   "outputs": [],
   "source": [
    "pd.set_option('display.max_columns', None, 'display.max_rows', 500)\n",
    "pd.set_option('display.width', 140)\n",
    "pd.set_option('display.memory_usage', True, 'compute.use_numba', False)\n",
    "plt.rcParams.update({'font.size': 12})\n",
    "n=1\n",
    "print(f'\\t\\t\\t\\t\\t{df.di4.unique()[0]}_{df.di5.unique()} Analysis for {df.partition_date.unique()[0]} to {df.partition_date.unique()[-1]}')"
   ]
  },
  {
   "cell_type": "code",
   "execution_count": null,
   "metadata": {},
   "outputs": [],
   "source": [
    "datewisedi8 = df.groupby(['partition_date'])['di8'].apply(lambda x: set(x.values)).to_dict()"
   ]
  },
  {
   "cell_type": "code",
   "execution_count": null,
   "metadata": {
    "scrolled": false
   },
   "outputs": [],
   "source": [
    "fig, ax = plt.subplots(2,figsize=(18,12))\n",
    "ax[0].bar(df.groupby('si2')['di8'].count().reset_index()['si2'], df.groupby('si2')['di8'].count().reset_index()['di8'], color = 'c')\n",
    "ax[0].set_xticks(range(0,102,2))\n",
    "ax[0].set_ylabel(\"Count of an instance of CPU utilisation\")\n",
    "ax[0].set_xlabel(\"CPU Utilisation value\")\n",
    "ax[0].set_title(f'[1] : {df.di4.unique()[0]}_{df.di5.unique()[0][1:]} CPU Utilisation stats')\n",
    "ax[1].bar(df.groupby('si3')['di8'].count().reset_index()['si3'], df.groupby('si3')['di8'].count().reset_index()['di8'], color = 'g')\n",
    "ax[1].set_xticks(range(0,102,2))\n",
    "ax[1].set_ylabel(\"Count of an instance of Memory utilisation\")\n",
    "ax[1].set_xlabel(\"Memory Utilisation value\")\n",
    "ax[1].set_title(f'[2] : {df.di4.unique()[0]}_{df.di5.unique()[0][1:]} Memory Utilisation stats')\n",
    "plt.locator_params(axis='y', nbins=10)\n",
    "fig.tight_layout(pad=3.0)"
   ]
  },
  {
   "cell_type": "code",
   "execution_count": null,
   "metadata": {},
   "outputs": [],
   "source": [
    "def cpuflag(d):\n",
    "    return sum(d>70) >= 0.2*len(d)\n",
    "l=df.groupby(['partition_date', 'di8' ])['si2'].apply(cpuflag).reset_index()\n",
    "print('[3] : Date-wise High CPU utilisation Flags:\\n')\n",
    "l.groupby('partition_date').agg({'di8' : 'count', 'si2' : 'sum'}).rename(columns = {'di8' : 'Total No. of devices', 'si2' : 'Number of devices with high CPU utilisation'})\n",
    "# for i in df.partition_date.unique():\n",
    "#     tv = len(l[l['si2'] & (l['partition_date'] == i)]['di8'])\n",
    "#     print(f\"\\t● {None if not tv else tv } of the {len(l[l['partition_date'] == i]['di8'])} devices reported HIGH CPU Usage on {i} :\\n\")\n",
    "#     if len(l[l['si2'] & (l['partition_date'] == i)]['di8']):\n",
    "#         print(f\"\\t\\t{l[l['si2'] & (l['partition_date'] == i)]['di8'].tolist()}\\n\")"
   ]
  },
  {
   "cell_type": "code",
   "execution_count": null,
   "metadata": {
    "scrolled": false
   },
   "outputs": [],
   "source": [
    "df.loc[df.di8 == 'RUFOTCC00081776']['si2'].plot(figsize = (18,5))"
   ]
  },
  {
   "cell_type": "code",
   "execution_count": null,
   "metadata": {},
   "outputs": [],
   "source": [
    "l2=df.groupby(['partition_date', 'di8' ])['si3'].apply(cpuflag).reset_index()\n",
    "print('[4] : Date-wise High Memory utilisation Flags:\\n')\n",
    "l2.groupby('partition_date').agg({'di8' : 'count', 'si3' : 'sum'}).rename(columns = {'di8' : 'Total No. of devices', 'si3' : 'Number of devices with high Memory utilisation'})\n",
    "# for i in df.partition_date.unique():\n",
    "#     tv = len(l2[l2['si3'] & (l2['partition_date'] == i)]['di8'])\n",
    "#     print(f\"\\t● {None if not tv else tv } of the {len(l2[l2['partition_date'] == i]['di8'])} devices reported HIGH Memory Usage on {i} : \\n\")\n",
    "#     if len(l2[l2['si3'] & (l2['partition_date'] == i)]['di8']):\n",
    "#         print(f\"\\t\\t{l2[l2['si3'] & (l['partition_date'] == i)]['di8'].tolist()}\\n\")"
   ]
  },
  {
   "cell_type": "code",
   "execution_count": null,
   "metadata": {
    "scrolled": false
   },
   "outputs": [],
   "source": [
    "def rebootcounter(d):\n",
    "    return sum(d.diff()<0)\n",
    "r2 = df.groupby(['partition_date', 'di8' ])['pi1'].apply(rebootcounter).reset_index().rename(columns = {'partition_date' : 'Date', \n",
    "                                                                                                        'pi1' : 'NoR',\n",
    "                                                                                                       'di8' : 'RSN'})\n",
    "try:\n",
    "    his = np.histogram(r2['NoR'],bins=range( max(r2[r2['NoR'] > 2][ 'NoR']) + 2))\n",
    "    fig, ax = plt.subplots(figsize=(12,5))\n",
    "    ax.set_xlabel(\"Number of Reboots in a day\")\n",
    "    ax.set_ylabel(\"Count of devices\")\n",
    "    #ax.set_yticks(range(0,max(his[0][3:])))\n",
    "    ax.set_xticks(range(3,max(his[1])))\n",
    "    ax.set_title(\"[5] : Count of devices vs Number of reboots in a day\")\n",
    "    rects = ax.bar(his[1][3:-1], his[0][3:], color = 'crimson', align='center')\n",
    "    for rect in rects:\n",
    "        height = rect.get_height()\n",
    "        ax.annotate(f'{height}',\n",
    "                        xy=(rect.get_x() + rect.get_width() / 2, height),\n",
    "                        xytext=(0, 3),  # 3 points vertical offset\n",
    "                        textcoords=\"offset points\",\n",
    "                        ha='center', va='bottom')\n",
    "except:\n",
    "    print('[5]: No multiple reboots found.')"
   ]
  },
  {
   "cell_type": "code",
   "execution_count": null,
   "metadata": {},
   "outputs": [],
   "source": [
    "print(\"\\n[6] : Top 5 corner cases for number of reboots in a day :\")\n",
    "r2.sort_values('NoR', ascending=False).reset_index(drop=True)[:6]"
   ]
  },
  {
   "cell_type": "code",
   "execution_count": null,
   "metadata": {},
   "outputs": [],
   "source": [
    "print(\"\\n[6] : Top 5 corner cases for number of reboots in a day :\")\n",
    "r2.sort_values('NoR', ascending=False).reset_index(drop=True)[:]"
   ]
  },
  {
   "cell_type": "code",
   "execution_count": null,
   "metadata": {
    "scrolled": false
   },
   "outputs": [],
   "source": [
    "def timediff(d):\n",
    "    return(max(d['jbdl_ts']-d['dt']))\n",
    "df2=df.groupby(['partition_date', 'di8' ])[['dt', 'jbdl_ts']].apply(timediff).reset_index().rename(columns = {0:'Max diff'})\n",
    "df2['plot'] = df2['Max diff'].dt.ceil('20min')\n",
    "df2 = df2[df2['plot'] < '23:00:00.000000'].reset_index(drop=True)\n",
    "df3 = df2.groupby('plot')['di8'].count().reset_index()\n",
    "df3 = df3[df3['plot'] > '0 days 00:20:00']\n",
    "fig, ax = plt.subplots(figsize=(25,8))\n",
    "ax.set_xlabel(\"Upto (hrs:mins:sec) late on a given day\")\n",
    "ax.set_ylabel(\"Count of devices\")\n",
    "ax.set_title(\"[7] : Data publish delay vs Count of devices\")\n",
    "rects = ax.bar(df3['plot'].astype(str).replace('0 days ', '', regex=True), df3['di8'], color= 'coral')\n",
    "for rect in rects:\n",
    "    height = rect.get_height()\n",
    "    ax.annotate(f'{height}',\n",
    "                    xy=(rect.get_x() + rect.get_width() / 2, height),\n",
    "                    xytext=(0, 3),  # 3 points vertical offset\n",
    "                    textcoords=\"offset points\",\n",
    "                    ha='center', va='bottom')"
   ]
  },
  {
   "cell_type": "code",
   "execution_count": null,
   "metadata": {},
   "outputs": [],
   "source": [
    "print(\"\\n[8] : Top 5 corner cases from the above plot :\")\n",
    "df2.sort_values('Max diff', ascending = False).reset_index(drop=True)[:6]"
   ]
  },
  {
   "cell_type": "code",
   "execution_count": null,
   "metadata": {},
   "outputs": [],
   "source": [
    "def channel(d):\n",
    "    return((d['wi20'].diff().dropna() !=0 ) & (~(d['pi1'].diff().dropna() < 0)))\n",
    "df2 = df.groupby(['partition_date', 'di8' ]).apply(channel).reset_index().drop('level_2', axis =1).rename(columns = {0:'change'})\n",
    "print('[9] : Devices that switched channels in 2.4GHz band without a reboot')\n",
    "df2[df2['change']].groupby(['partition_date', 'di8'])['change'].sum().to_frame().rename(columns = {'change' : 'Number of times the ONT switched channels'})"
   ]
  },
  {
   "cell_type": "code",
   "execution_count": null,
   "metadata": {},
   "outputs": [],
   "source": [
    "print('[10] : Devices that reported 2.4 GHz channel as 0')\n",
    "df[df['wi20'] == 0][['di8', 'dt']]"
   ]
  },
  {
   "cell_type": "code",
   "execution_count": null,
   "metadata": {},
   "outputs": [],
   "source": [
    "#if 'JCO110' != df.di4.unique()[0]: \n",
    "def channel(d):\n",
    "    return((d['wi28'].diff().dropna() !=0 ) & (~(d['pi1'].diff().dropna() < 0)))\n",
    "df2 = df.groupby(['partition_date', 'di8' ]).apply(channel).reset_index().drop('level_2', axis =1).rename(columns = {0:'change'})\n",
    "print('[11] : Devices that switched channels in 5GHz band without a reboot')\n",
    "df2[df2['change']].groupby(['partition_date', 'di8'])['change'].sum().to_frame().rename(columns = {'change' : 'Number of times the ONT switched channels'})"
   ]
  },
  {
   "cell_type": "code",
   "execution_count": null,
   "metadata": {},
   "outputs": [],
   "source": [
    "#if 'JCO110' != df.di4.unique()[0]: \n",
    "print('[12] : Devices that reported 5 GHz channel as 0')\n",
    "df[df['wi28'] == 0][['di8', 'dt']]"
   ]
  },
  {
   "cell_type": "code",
   "execution_count": null,
   "metadata": {
    "scrolled": false
   },
   "outputs": [],
   "source": [
    "def router(d):\n",
    "    d['boolval'] = (d.li1.sum() != 0) & ((d['wi27'].sum() + d.wi19.sum()) == 0)\n",
    "    d['Average Ethernet clients'] = round(d['li1'].mean())\n",
    "    return d[['di8', 'boolval', 'Average Ethernet clients']]\n",
    "df2 = df.groupby('di8').apply(router).reset_index()\n",
    "df2.drop(columns = 'index', inplace =True)\n",
    "df3 =  df2[df2['boolval']].drop_duplicates()\n",
    "#datewisedi8 = {k: v-set(df3.di8) for k,v in datewisedi8.items()}\n",
    "print(f'[13] : A total of [{len(df3)}] devices from the sample are being used as a Ethernet only devices. Possibly inidicating pairing with another router/AP. \\n')\n",
    "print('[14] : Following are a few devices with max number of ethernet clients:')\n",
    "df3[['di8', 'Average Ethernet clients']].sort_values('Average Ethernet clients', ascending = False).reset_index(drop=True)[:6]"
   ]
  },
  {
   "cell_type": "code",
   "execution_count": null,
   "metadata": {
    "scrolled": false
   },
   "outputs": [],
   "source": [
    "def emptyband2(d):\n",
    "    return((d['wi19'].sum() != 0) & (d['wi27'].sum() == 0))\n",
    "df2 =df.groupby('di8').apply(emptyband2).reset_index()\n",
    "#datewisedi8_2_4 = {k: len(v-set(df2[df2[0]].di8)) for k,v in datewisedi8.items()}\n",
    "if 'JCO110' != df.di4.unique()[0]:\n",
    "    print(f'[15] : A total of {len(df2[df2[0]])} devices from the sample are only using the 2.4GHz band. \\n')\n",
    "    #print(tabulate(df2[df2[0]].reset_index(drop= True), headers='keys', tablefmt='psql'), '\\n')"
   ]
  },
  {
   "cell_type": "code",
   "execution_count": null,
   "metadata": {
    "scrolled": false
   },
   "outputs": [],
   "source": [
    "if 'JCO110' != df.di4.unique()[0]: \n",
    "    def emptyband5(d):\n",
    "        return((d['wi19'].sum() == 0) & (d['wi27'].sum() != 0))\n",
    "    df2 =df.groupby('di8').apply(emptyband5).reset_index()\n",
    "    #datewisedi8_5 = {k: len(v-set(df2[df2[0]].di8)) for k,v in datewisedi8.items()}\n",
    "    print(f'[16] : A total of {len(df2[df2[0]])} devices from the sample are only using the 5GHz band. \\n')\n",
    "    #print(tabulate(df2[df2[0]].reset_index(drop= True), headers='keys', tablefmt='psql'), '\\n')"
   ]
  },
  {
   "cell_type": "code",
   "execution_count": null,
   "metadata": {},
   "outputs": [],
   "source": [
    "#df2 = df.groupby(['partition_date', 'di8']).apply(lambda x : sum(x.li1) ==0 ).reset_index()\n",
    "#datewisedi8_e = {k: len(v-set(df2[df2[0]].di8)) for k,v in datewisedi8.items()}\n",
    "dates = len(df.partition_date.unique())"
   ]
  },
  {
   "cell_type": "code",
   "execution_count": null,
   "metadata": {
    "scrolled": false
   },
   "outputs": [],
   "source": [
    "def ethererror(d):\n",
    "    return((sum(d['li6']/d['li4'] > 0.1)/(len(d.li4.replace(0,np.nan).dropna()) or np.nan)) > 0.2 ,\n",
    "           (sum(d.li7/d.li5 > 0.1)/(len(d.li5.replace(0,np.nan).dropna()) or np.nan)) > 0.2 ,\n",
    "           (sum(d['li8']/d['li4'] > 0.1)/(len(d.li4.replace(0,np.nan).dropna()) or np.nan)) > 0.2 ,\n",
    "           (sum(d['li9']/d['li5'] > 0.1)/(len(d.li4.replace(0,np.nan).dropna()) or np.nan)) > 0.2)\n",
    "\n",
    "df8=df.groupby(['partition_date', 'di8']).apply(ethererror).reset_index()\n",
    "#df8=df8.drop(columns = [0])\n",
    "df8[['Tx', 'Rx', 'DTx', 'DRx']] = pd.DataFrame(df8[0].tolist(), index= df8.index)\n",
    "l=['High Tx\\n error pkts', 'High Rx\\n error pkts', 'High Tx pkt\\n drop rates', 'High Rx pkt\\n drop rates']\n",
    "def plotfunc(d):\n",
    "    return(len(d),len(d[d['Tx']]),len(d[d['Rx']]),len(d[d['DTx']]),len(d[d['DRx']]))\n",
    "\n",
    "t = df8.groupby(['partition_date']).apply(plotfunc)\n",
    "#r=[[0 if ~datewisedi8_e[i] else round(j/datewisedi8_e[i]*100, 2) for j in t[i]] for i in datewisedi8_e.keys()]\n",
    "fig, ax = plt.subplots((dates+1)//2,2, figsize=(18,(dates+1)//2 *7))\n",
    "# ax[0,0].bar(l,r[0])\n",
    "# ax[0,1].bar(l,r[1])\n",
    "# ax[1,0].bar(l,r[2])\n",
    "# ax[1,1].bar(l,r[3])\n",
    "j=0\n",
    "for x in ax:\n",
    "    for s in x:\n",
    "        if j < dates:\n",
    "            rects = s.bar(l,[t[j][1]*100//t[j][0], t[j][2]*100//t[j][0], t[j][3]*100//t[j][0], t[j][4]*100//t[j][0]])\n",
    "            s.set_title(f'[17.{j}]: Ethernet stats on {sorted([*datewisedi8])[j]}')\n",
    "            s.set_ylabel('Percentage of total valid devices(%)')\n",
    "            s.set_yticks(range(0,101,10))  \n",
    "            for rect in rects:\n",
    "                height = rect.get_height()\n",
    "                s.annotate(f'{height}%',\n",
    "                                xy=(rect.get_x() + rect.get_width() / 2, height),\n",
    "                                xytext=(0, 3),  # 3 points vertical offset\n",
    "                                textcoords=\"offset points\",\n",
    "                                ha='center', va='bottom')\n",
    "            j+=1"
   ]
  },
  {
   "cell_type": "code",
   "execution_count": null,
   "metadata": {
    "scrolled": false
   },
   "outputs": [],
   "source": [
    "def wifierror(d):\n",
    "    return (sum(d.wi25/d.wi23 > 0.35)/(len(d.wi23.replace(0,np.nan).dropna()) or np.nan)) > 0.2 , (sum(d.wi26/d.wi24 > 0.2)/(len(d.wi24.replace(0,np.nan).dropna()) or np.nan)) > 0.2 \n",
    "df8=df.groupby(['partition_date', 'di8']).apply(wifierror).reset_index()\n",
    "df8[['Tx', 'Rx']] = pd.DataFrame(df8[0].tolist(), index= df8.index)\n",
    "l=['High Tx\\n Error rates', 'High Rx\\n Error rates']\n",
    "def plotfunc(d):\n",
    "    return(len(d), len(d[d['Tx']]),len(d[d['Rx']]))\n",
    "t = df8.groupby(['partition_date']).apply(plotfunc)\n",
    "#r=[[0 if ~datewisedi8_2_4[i] else round(j/datewisedi8_2_4[i]*100, 2) for j in t[i]] for i in datewisedi8_2_4.keys()]\n",
    "fig, ax = plt.subplots((dates+1)//2,2, figsize=(18,(dates+1)//2 *6))\n",
    "j=0\n",
    "for x in ax:\n",
    "    for s in x:\n",
    "        if j < dates:\n",
    "            rects = s.bar(l,[t[j][1]*100//t[j][0], t[j][2]*100//t[j][0]])\n",
    "            s.set_title(f'[18.{j}]: 2.4 GHz band stats on {sorted([*datewisedi8])[j]}')\n",
    "            s.set_ylabel('Percentage of total valid devices(%)')\n",
    "            s.set_yticks(range(0,101,10))  \n",
    "            for rect in rects:\n",
    "                height = rect.get_height()\n",
    "                s.annotate(f'{height}%',\n",
    "                                xy=(rect.get_x() + rect.get_width() / 2, height),\n",
    "                                xytext=(0, 3),  # 3 points vertical offset\n",
    "                                textcoords=\"offset points\",\n",
    "                                ha='center', va='bottom')\n",
    "            j+=1"
   ]
  },
  {
   "cell_type": "code",
   "execution_count": null,
   "metadata": {},
   "outputs": [],
   "source": [
    "'''\n",
    "short circuiting used to deal with divide by zero errors\n",
    "'''\n",
    "if 'JCO110' != df.di4.unique()[0]:    \n",
    "    def wifierror(d):\n",
    "        return (sum(d.wi15/d.wi13 > 0.35)/(len(d.wi13.replace(0,np.nan).dropna()) or np.nan)) > 0.2 , (sum((d.wi16/d.wi14) > 0.35)/(len(d.wi14.replace(0,np.nan).dropna()) or np.nan)) > 0.2\n",
    "    df8=df.groupby(['partition_date', 'di8']).apply(wifierror).reset_index()\n",
    "    df8[['Tx', 'Rx']] = pd.DataFrame(df8[0].tolist(), index= df8.index)\n",
    "    l=['High Tx\\n Error rates', 'High Rx\\n Error rates']\n",
    "    t = df8.groupby(['partition_date']).apply(plotfunc)\n",
    "    #r=[[0 if ~datewisedi8_5[i] else round(j/datewisedi8_5[i]*100, 2) for j in t[i]] for i in datewisedi8_5.keys()]\n",
    "    fig, ax = plt.subplots((dates+1)//2,2, figsize=(18,(dates+1)//2 *6))\n",
    "    j=0\n",
    "    for x in ax:\n",
    "        for s in x:\n",
    "            if j < dates:\n",
    "                rects = s.bar(l,[t[j][1]*100//t[j][0], t[j][2]*100//t[j][0]])\n",
    "                s.set_title(f'[19.{j}]: 5 GHz band stats on {sorted([*datewisedi8])[j]}')\n",
    "                s.set_ylabel('Percentage of total valid devices(%)')\n",
    "                s.set_yticks(range(0,101,10))  \n",
    "                for rect in rects:\n",
    "                    height = rect.get_height()\n",
    "                    s.annotate(f'{height}%',\n",
    "                                    xy=(rect.get_x() + rect.get_width() / 2, height),\n",
    "                                    xytext=(0, 3),  # 3 points vertical offset\n",
    "                                    textcoords=\"offset points\",\n",
    "                                    ha='center', va='bottom')\n",
    "                j+=1"
   ]
  },
  {
   "cell_type": "code",
   "execution_count": null,
   "metadata": {},
   "outputs": [],
   "source": [
    "df = df[df['name'] == 'DE1'][:]"
   ]
  },
  {
   "cell_type": "code",
   "execution_count": null,
   "metadata": {},
   "outputs": [],
   "source": [
    "print('[20] : Devices and the Number of times their ACS conenctivity was reported to be down : \\n')\n",
    "df2 = df[~df['srv1'].astype('bool')][['partition_date', 'di8', 'dt']].reset_index(drop=True).groupby(['di8', 'partition_date']).count()\n",
    "df2.rename(columns = {'dt' : 'Number'}).rename_axis(index={ 'di8' : 'RSN', 'partition_date' : 'Date'}).stack().unstack(level=1).fillna('.')"
   ]
  },
  {
   "cell_type": "code",
   "execution_count": null,
   "metadata": {},
   "outputs": [],
   "source": [
    "print('[21] : Devices and the Number of times their NTP Sync was reported to have failed : \\n')\n",
    "df2 = df[~df['srv2'].astype(bool)][['partition_date', 'di8', 'dt']].reset_index(drop=True).groupby(['di8', 'partition_date']).count()\n",
    "df2.rename(columns = {'dt' : 'Number'}).rename_axis(index={ 'di8' : 'RSN', 'partition_date' : 'Date'}).stack().unstack(level = 1).fillna('.')"
   ]
  },
  {
   "cell_type": "code",
   "execution_count": null,
   "metadata": {},
   "outputs": [],
   "source": [
    "print('[22] : Devices and the Number of times their WAN IPv6 was down :\\n')\n",
    "df2 = df[~df['wan3'].astype('bool')][['partition_date', 'di8', 'dt']].reset_index(drop=True).groupby(['di8', 'partition_date']).count()\n",
    "df2.rename(columns = {'dt' : 'Number'}).rename_axis(index={ 'di8' : 'RSN', 'partition_date' : 'Date'}).stack().unstack(level=1).fillna('.')"
   ]
  },
  {
   "cell_type": "code",
   "execution_count": null,
   "metadata": {},
   "outputs": [],
   "source": [
    "'''\n",
    "explode expands a column containing lists to a column with individual list elements. All other elements are duplicated\n",
    "including the index.\n",
    "drop simply removes a column.\n",
    "Axis along which the function is applied:\n",
    "0 or ‘index’: apply function to each column. like .sum, .count\n",
    "1 or ‘columns’: apply function to each row. (or columns = 'wi18')\n",
    "\n",
    "pd.Series converts individual dictionary into a series which is converted to a df by the apply.\n",
    "concat joins the two dfs column wise by aligning the indexes\n",
    "'''\n",
    "dfe = df.explode('wi17').explode('wi18')\n",
    "df2 = pd.concat([dfe.reset_index(drop=True), \n",
    "                 pd.json_normalize(dfe['wi17'].fillna({i:{} for i in dfe.index}))],\n",
    "                 axis=1).reset_index()\n",
    "df3 = df2[['di8', 'partition_date', 'dt', 'mac', 'rssi', 'txrate', 'max_txrate', 'nxn', 'txbytes', 'rxbytes', 'di4']].copy()"
   ]
  },
  {
   "cell_type": "code",
   "execution_count": null,
   "metadata": {},
   "outputs": [],
   "source": [
    "pd.concat([dfe.reset_index(drop=True), pd.json_normalize(dfe['wi17'].fillna({i:{} for i in dfe.index}))], axis=1).reset_index()"
   ]
  },
  {
   "cell_type": "code",
   "execution_count": null,
   "metadata": {},
   "outputs": [],
   "source": [
    "pd.concat([dfe.drop('wi17', axis=1), pd.DataFrame(dfe['wi17'].fillna({i:{} for i in dfe.index}).to_list(), index=dfe.index)], axis=1)"
   ]
  },
  {
   "cell_type": "code",
   "execution_count": null,
   "metadata": {},
   "outputs": [],
   "source": [
    "def poorcov(d):\n",
    "    return ((sum(d['rssi'] < -85) / len(d.rssi)) >= 0.2*len(d.rssi))\n",
    "df4= df3.groupby(['partition_date', 'di8', 'mac']).apply(poorcov).reset_index().rename(columns = {0:'client_flag'})"
   ]
  },
  {
   "cell_type": "code",
   "execution_count": null,
   "metadata": {},
   "outputs": [],
   "source": [
    "def badband(d):\n",
    "    return(sum(d.client_flag) >= 0.5*len(d.client_flag))\n",
    "df5 = df4.groupby(['partition_date', 'di8']).apply(badband).reset_index().rename(columns = {0:'Flag'})\n",
    "print('[23] : Devices with poor 2.4GHz WiFi coverage (low rssi) : \\n')\n",
    "df5.groupby('partition_date')['Flag'].sum().plot(kind='bar', color = 'indianred', figsize=(9,5),\\\n",
    "                                                 title = '[24] : Devices with poor 2.4GHz WiFi coverage (low rssi) :',\\\n",
    "                                                 xlabel='Dates', ylabel='Count of devices')\n",
    "print('')"
   ]
  },
  {
   "cell_type": "code",
   "execution_count": null,
   "metadata": {
    "scrolled": false
   },
   "outputs": [],
   "source": [
    "def poortx(d):\n",
    "    if d.di4.unique()[0] in ['JCO110', 'JCO500', 'HG260ES']:\n",
    "        return ((sum(d['max_txrate'] < 19.5) / len(d.max_txrate)) >= 0.2*len(d.max_txrate))\n",
    "    else:\n",
    "        return ((sum(d['txrate'] < 19.5) / len(d.txrate)) >= 0.2*len(d.txrate))\n",
    "df4= df3.groupby(['partition_date', 'di8', 'mac']).apply(poortx).reset_index().rename(columns = {0:'client_flag'})\n",
    "df5 = df4.groupby(['partition_date', 'di8']).apply(badband).reset_index().rename(columns = {0:'Flag'})\n",
    "df5.groupby('partition_date')['Flag'].sum().plot(kind='bar', color = 'indianred', figsize=(9,5),\\\n",
    "                                                 title = '[24] : Devices with poor txrates on 2.4GHz band (bad band)',\\\n",
    "                                                 xlabel='Dates', ylabel='Count of devices')\n",
    "print('')"
   ]
  },
  {
   "cell_type": "code",
   "execution_count": null,
   "metadata": {},
   "outputs": [],
   "source": [
    "pd.set_option('display.memory_usage', True, 'compute.use_numba', False)"
   ]
  },
  {
   "cell_type": "code",
   "execution_count": null,
   "metadata": {
    "scrolled": false
   },
   "outputs": [],
   "source": [
    "def numChanges(x):\n",
    "    return sum(x.iloc[:-1] != x.shift(-1).iloc[:-1])\n",
    "\n",
    "df4=df3.groupby(['partition_date', 'di8', 'mac']).agg({'nxn' : numChanges})\n",
    "df4.rename(columns = {'nxn' : 'MIMO switches'}, inplace =True)\n",
    "df4.groupby('partition_date')['MIMO switches'].sum().plot(kind='bar', color = 'salmon', figsize=(9,5),\\\n",
    "                                                 title = '[25] : Number of mimo config switches in a day vs Date',\\\n",
    "                                                 xlabel='Dates', ylabel='Count of devices')\n",
    "print('')"
   ]
  },
  {
   "cell_type": "code",
   "execution_count": null,
   "metadata": {},
   "outputs": [],
   "source": [
    "print('[26] : Top 5 devices that exhibited most switches: \\n')\n",
    "df4.groupby(['partition_date', 'di8']).sum().sort_values(by='MIMO switches', ascending=False)[:6]"
   ]
  },
  {
   "cell_type": "code",
   "execution_count": null,
   "metadata": {},
   "outputs": [],
   "source": [
    "df4 = pd.concat([dfe.reset_index(drop=True), \n",
    "                 pd.json_normalize(dfe['wi18'].fillna({i:{} for i in dfe.index}))],\n",
    "                 axis=1).reset_index()\n",
    "df5 =df4[['di8', 'partition_date', 'dt', 'mac', 'rssi', 'txrate', 'max_txrate', 'nxn', 'txbytes', 'rxbytes', 'di4']][:]"
   ]
  },
  {
   "cell_type": "code",
   "execution_count": null,
   "metadata": {
    "scrolled": false
   },
   "outputs": [],
   "source": [
    "def poorcov(d):\n",
    "    return ((sum(d['rssi'] < -85) / len(d.rssi)) >= 0.2*len(d.rssi))\n",
    "df6= df5.groupby(['partition_date', 'di8', 'mac']).apply(poorcov).reset_index().rename(columns = {0:'client_flag'})\n",
    "def badband(d):\n",
    "    return(sum(d.client_flag) >= 0.5*len(d.client_flag))\n",
    "df7 = df6.groupby(['partition_date', 'di8']).apply(badband).reset_index().rename(columns = {0:'Flag'})\n",
    "df7.groupby('partition_date')['Flag'].sum().plot(kind='bar', color = 'indianred', figsize=(9,5),\\\n",
    "                                                 title = '[27] : Devices with poor 5GHz WiFi coverage (low rssi) :',\\\n",
    "                                                 xlabel='Dates', ylabel='Count of devices')\n",
    "print('')"
   ]
  },
  {
   "cell_type": "code",
   "execution_count": null,
   "metadata": {
    "scrolled": false
   },
   "outputs": [],
   "source": [
    "def poortx(d):\n",
    "    if d.di4.unique()[0] in ['JCO110', 'JCO500', 'HG260ES']:\n",
    "        return ((sum(d['max_txrate'] < 19.5) / len(d.max_txrate)) >= 0.2*len(d.max_txrate))\n",
    "    else:\n",
    "        return ((sum(d['txrate'] < 19.5) / len(d.txrate)) >= 0.2*len(d.txrate))\n",
    "df6= df5.groupby(['partition_date', 'di8', 'mac']).apply(poortx).reset_index().rename(columns = {0:'client_flag'})\n",
    "df7 = df6.groupby(['partition_date', 'di8']).apply(badband).reset_index().rename(columns = {0:'Flag'})\n",
    "df7.groupby('partition_date')['Flag'].sum().plot(kind='bar', color = 'indianred', figsize=(9,5),\\\n",
    "                                                 title = '[28]  : Devices with poor txrates on 5GHz band (bad band) : :',\\\n",
    "                                                 xlabel='Dates', ylabel='Count of devices')\n",
    "print('')"
   ]
  },
  {
   "cell_type": "code",
   "execution_count": null,
   "metadata": {
    "scrolled": false
   },
   "outputs": [],
   "source": [
    "def numChanges(x):\n",
    "    return sum(x.iloc[:-1] != x.shift(-1).iloc[:-1])\n",
    "\n",
    "df6=df5.groupby(['partition_date', 'di8', 'mac']).agg({'nxn' : numChanges})\n",
    "df6.rename(columns = {'nxn' : 'MIMO switches'}, inplace =True)\n",
    "df6.groupby('partition_date')['MIMO switches'].sum().plot(kind='bar', color = 'salmon', figsize=(9,5),\\\n",
    "                                                 title = '[29] : Number of mimo config switches in a day vs Date',\\\n",
    "                                                 xlabel='Dates', ylabel='Count of devices')\n",
    "print('')"
   ]
  },
  {
   "cell_type": "code",
   "execution_count": null,
   "metadata": {},
   "outputs": [],
   "source": [
    "#df6.query(\"partition_date == '2021-03-23'\")\n",
    "print('[30] : Top 5 devices that exhibited most switches: \\n')\n",
    "df6.groupby(['partition_date', 'di8']).sum().sort_values(by='MIMO switches', ascending=False)[:6]"
   ]
  },
  {
   "cell_type": "code",
   "execution_count": null,
   "metadata": {
    "scrolled": false
   },
   "outputs": [],
   "source": [
    "df3.loc[:, 'band'] = '2.4GHz'\n",
    "df5.loc[:, 'band'] = '5GHz'\n",
    "df7= df5.merge(df3, how='outer')\n",
    "def switchcheck(d):\n",
    "    return(len(d.band.unique()) >1)\n",
    "df8= df7.groupby(['di8', 'partition_date', 'mac']).apply(switchcheck).reset_index().rename(columns = {0:'shift'})\n",
    "print('[31] : Devices with clients that switched bands: \\n')\n",
    "df8.groupby('partition_date')['shift'].sum().plot(kind='bar', color = 'lightgreen', figsize=(9,5),\\\n",
    "                                                 title = '[31] : Number of times a client switched bands (between 2.4 & 5) vs Date :',\\\n",
    "                                                 xlabel='Dates', ylabel='Count of devices')\n",
    "print('')"
   ]
  },
  {
   "cell_type": "code",
   "execution_count": null,
   "metadata": {},
   "outputs": [],
   "source": [
    "print('[32] : Devices exhibiting the most number of switches from the above plot: \\n')\n",
    "df8.groupby('di8')['shift'].sum().reset_index().sort_values(by='shift', ascending =False).reset_index(drop=True)[:6]"
   ]
  },
  {
   "cell_type": "code",
   "execution_count": null,
   "metadata": {},
   "outputs": [],
   "source": [
    "!jupyter nbconvert \"Field_rollout_checks.ipynb\" --no-input --to html --output f\"{df.di4.unique()[0]}_{df.di5.unique()[0][1:]}_Rolloutcheck\".html"
   ]
  },
  {
   "cell_type": "code",
   "execution_count": null,
   "metadata": {
    "scrolled": false
   },
   "outputs": [],
   "source": [
    "#_ih[-500:]"
   ]
  },
  {
   "cell_type": "code",
   "execution_count": null,
   "metadata": {},
   "outputs": [],
   "source": [
    "time2 = time()\n",
    "print(f'{time2-time1} seconds taken. \\nEND of Report')"
   ]
  },
  {
   "cell_type": "code",
   "execution_count": null,
   "metadata": {},
   "outputs": [],
   "source": []
  }
 ],
 "metadata": {
  "kernelspec": {
   "display_name": "Python 3",
   "language": "python",
   "name": "python3"
  },
  "language_info": {
   "codemirror_mode": {
    "name": "ipython",
    "version": 3
   },
   "file_extension": ".py",
   "mimetype": "text/x-python",
   "name": "python",
   "nbconvert_exporter": "python",
   "pygments_lexer": "ipython3",
   "version": "3.8.5"
  }
 },
 "nbformat": 4,
 "nbformat_minor": 4
}
